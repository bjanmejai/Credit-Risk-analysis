{
 "cells": [
  {
   "cell_type": "markdown",
   "id": "4ec65243",
   "metadata": {},
   "source": [
    "# Here is your task\n",
    "The risk manager has collected data on the loan borrowers. The data is in tabular format, with each row providing details of the borrower, including their income, total loans outstanding, and a few other metrics. There is also a column indicating if the borrower has previously defaulted on a loan. You must use this data to build a model that, given details for any loan described above, will predict the probability that the borrower will default (also known as PD: the probability of default). Use the provided data to train a function that will estimate the probability of default for a borrower. Assuming a recovery rate of 10%, this can be used to give the expected loss on a loan.\n",
    "\n",
    "You should produce a function that can take in the properties of a loan and output the expected loss.\n",
    "\n",
    "\n",
    "You can explore any technique ranging from a simple regression or a decision tree to something more advanced. You can also use multiple methods and provide a comparative analysis."
   ]
  },
  {
   "cell_type": "code",
   "execution_count": 3,
   "id": "8a672fd4",
   "metadata": {},
   "outputs": [],
   "source": [
    "# Load Libreries\n",
    "import pandas as pd\n",
    "import numpy as np\n",
    "import seaborn as sns\n",
    "from scipy import stats \n",
    "import matplotlib.pyplot as plt\n",
    "import matplotlib.dates as mdates\n",
    "from matplotlib import pyplot\n",
    "from scipy.stats import norm\n",
    "import datetime as dt"
   ]
  },
  {
   "cell_type": "code",
   "execution_count": 4,
   "id": "064fcf90",
   "metadata": {},
   "outputs": [
    {
     "data": {
      "text/html": [
       "<div>\n",
       "<style scoped>\n",
       "    .dataframe tbody tr th:only-of-type {\n",
       "        vertical-align: middle;\n",
       "    }\n",
       "\n",
       "    .dataframe tbody tr th {\n",
       "        vertical-align: top;\n",
       "    }\n",
       "\n",
       "    .dataframe thead th {\n",
       "        text-align: right;\n",
       "    }\n",
       "</style>\n",
       "<table border=\"1\" class=\"dataframe\">\n",
       "  <thead>\n",
       "    <tr style=\"text-align: right;\">\n",
       "      <th></th>\n",
       "      <th>customer_id</th>\n",
       "      <th>credit_lines_outstanding</th>\n",
       "      <th>loan_amt_outstanding</th>\n",
       "      <th>total_debt_outstanding</th>\n",
       "      <th>income</th>\n",
       "      <th>years_employed</th>\n",
       "      <th>fico_score</th>\n",
       "      <th>default</th>\n",
       "    </tr>\n",
       "  </thead>\n",
       "  <tbody>\n",
       "    <tr>\n",
       "      <th>0</th>\n",
       "      <td>8153374</td>\n",
       "      <td>0</td>\n",
       "      <td>5221.545193</td>\n",
       "      <td>3915.471226</td>\n",
       "      <td>78039.38546</td>\n",
       "      <td>5</td>\n",
       "      <td>605</td>\n",
       "      <td>0</td>\n",
       "    </tr>\n",
       "    <tr>\n",
       "      <th>1</th>\n",
       "      <td>7442532</td>\n",
       "      <td>5</td>\n",
       "      <td>1958.928726</td>\n",
       "      <td>8228.752520</td>\n",
       "      <td>26648.43525</td>\n",
       "      <td>2</td>\n",
       "      <td>572</td>\n",
       "      <td>1</td>\n",
       "    </tr>\n",
       "    <tr>\n",
       "      <th>2</th>\n",
       "      <td>2256073</td>\n",
       "      <td>0</td>\n",
       "      <td>3363.009259</td>\n",
       "      <td>2027.830850</td>\n",
       "      <td>65866.71246</td>\n",
       "      <td>4</td>\n",
       "      <td>602</td>\n",
       "      <td>0</td>\n",
       "    </tr>\n",
       "    <tr>\n",
       "      <th>3</th>\n",
       "      <td>4885975</td>\n",
       "      <td>0</td>\n",
       "      <td>4766.648001</td>\n",
       "      <td>2501.730397</td>\n",
       "      <td>74356.88347</td>\n",
       "      <td>5</td>\n",
       "      <td>612</td>\n",
       "      <td>0</td>\n",
       "    </tr>\n",
       "    <tr>\n",
       "      <th>4</th>\n",
       "      <td>4700614</td>\n",
       "      <td>1</td>\n",
       "      <td>1345.827718</td>\n",
       "      <td>1768.826187</td>\n",
       "      <td>23448.32631</td>\n",
       "      <td>6</td>\n",
       "      <td>631</td>\n",
       "      <td>0</td>\n",
       "    </tr>\n",
       "    <tr>\n",
       "      <th>5</th>\n",
       "      <td>4661159</td>\n",
       "      <td>0</td>\n",
       "      <td>5376.886873</td>\n",
       "      <td>7189.121298</td>\n",
       "      <td>85529.84591</td>\n",
       "      <td>2</td>\n",
       "      <td>697</td>\n",
       "      <td>0</td>\n",
       "    </tr>\n",
       "    <tr>\n",
       "      <th>6</th>\n",
       "      <td>8291909</td>\n",
       "      <td>1</td>\n",
       "      <td>3634.057471</td>\n",
       "      <td>7085.980095</td>\n",
       "      <td>68691.57707</td>\n",
       "      <td>6</td>\n",
       "      <td>722</td>\n",
       "      <td>0</td>\n",
       "    </tr>\n",
       "  </tbody>\n",
       "</table>\n",
       "</div>"
      ],
      "text/plain": [
       "   customer_id  credit_lines_outstanding  loan_amt_outstanding  \\\n",
       "0      8153374                         0           5221.545193   \n",
       "1      7442532                         5           1958.928726   \n",
       "2      2256073                         0           3363.009259   \n",
       "3      4885975                         0           4766.648001   \n",
       "4      4700614                         1           1345.827718   \n",
       "5      4661159                         0           5376.886873   \n",
       "6      8291909                         1           3634.057471   \n",
       "\n",
       "   total_debt_outstanding       income  years_employed  fico_score  default  \n",
       "0             3915.471226  78039.38546               5         605        0  \n",
       "1             8228.752520  26648.43525               2         572        1  \n",
       "2             2027.830850  65866.71246               4         602        0  \n",
       "3             2501.730397  74356.88347               5         612        0  \n",
       "4             1768.826187  23448.32631               6         631        0  \n",
       "5             7189.121298  85529.84591               2         697        0  \n",
       "6             7085.980095  68691.57707               6         722        0  "
      ]
     },
     "execution_count": 4,
     "metadata": {},
     "output_type": "execute_result"
    }
   ],
   "source": [
    "df= pd.read_csv(r\"E:\\JP mogan chase\\1\\Task 3 and 4_Loan_Data.csv\")\n",
    "df.head(7)"
   ]
  },
  {
   "cell_type": "code",
   "execution_count": 5,
   "id": "3d9f4737",
   "metadata": {},
   "outputs": [
    {
     "name": "stdout",
     "output_type": "stream",
     "text": [
      "<class 'pandas.core.frame.DataFrame'>\n",
      "RangeIndex: 10000 entries, 0 to 9999\n",
      "Data columns (total 8 columns):\n",
      " #   Column                    Non-Null Count  Dtype  \n",
      "---  ------                    --------------  -----  \n",
      " 0   customer_id               10000 non-null  int64  \n",
      " 1   credit_lines_outstanding  10000 non-null  int64  \n",
      " 2   loan_amt_outstanding      10000 non-null  float64\n",
      " 3   total_debt_outstanding    10000 non-null  float64\n",
      " 4   income                    10000 non-null  float64\n",
      " 5   years_employed            10000 non-null  int64  \n",
      " 6   fico_score                10000 non-null  int64  \n",
      " 7   default                   10000 non-null  int64  \n",
      "dtypes: float64(3), int64(5)\n",
      "memory usage: 625.1 KB\n"
     ]
    }
   ],
   "source": [
    "df.info()"
   ]
  },
  {
   "cell_type": "code",
   "execution_count": 6,
   "id": "547e3155",
   "metadata": {},
   "outputs": [
    {
     "data": {
      "text/plain": [
       "0    8149\n",
       "1    1851\n",
       "Name: default, dtype: int64"
      ]
     },
     "execution_count": 6,
     "metadata": {},
     "output_type": "execute_result"
    }
   ],
   "source": [
    "df.default.value_counts()"
   ]
  },
  {
   "cell_type": "code",
   "execution_count": 7,
   "id": "f30fea41",
   "metadata": {},
   "outputs": [
    {
     "data": {
      "text/html": [
       "<div>\n",
       "<style scoped>\n",
       "    .dataframe tbody tr th:only-of-type {\n",
       "        vertical-align: middle;\n",
       "    }\n",
       "\n",
       "    .dataframe tbody tr th {\n",
       "        vertical-align: top;\n",
       "    }\n",
       "\n",
       "    .dataframe thead th {\n",
       "        text-align: right;\n",
       "    }\n",
       "</style>\n",
       "<table border=\"1\" class=\"dataframe\">\n",
       "  <thead>\n",
       "    <tr style=\"text-align: right;\">\n",
       "      <th></th>\n",
       "      <th>credit_lines_outstanding</th>\n",
       "      <th>loan_amt_outstanding</th>\n",
       "      <th>total_debt_outstanding</th>\n",
       "      <th>income</th>\n",
       "      <th>years_employed</th>\n",
       "      <th>fico_score</th>\n",
       "      <th>default</th>\n",
       "    </tr>\n",
       "  </thead>\n",
       "  <tbody>\n",
       "    <tr>\n",
       "      <th>0</th>\n",
       "      <td>0</td>\n",
       "      <td>5221.545193</td>\n",
       "      <td>3915.471226</td>\n",
       "      <td>78039.38546</td>\n",
       "      <td>5</td>\n",
       "      <td>605</td>\n",
       "      <td>0</td>\n",
       "    </tr>\n",
       "    <tr>\n",
       "      <th>1</th>\n",
       "      <td>5</td>\n",
       "      <td>1958.928726</td>\n",
       "      <td>8228.752520</td>\n",
       "      <td>26648.43525</td>\n",
       "      <td>2</td>\n",
       "      <td>572</td>\n",
       "      <td>1</td>\n",
       "    </tr>\n",
       "    <tr>\n",
       "      <th>2</th>\n",
       "      <td>0</td>\n",
       "      <td>3363.009259</td>\n",
       "      <td>2027.830850</td>\n",
       "      <td>65866.71246</td>\n",
       "      <td>4</td>\n",
       "      <td>602</td>\n",
       "      <td>0</td>\n",
       "    </tr>\n",
       "    <tr>\n",
       "      <th>3</th>\n",
       "      <td>0</td>\n",
       "      <td>4766.648001</td>\n",
       "      <td>2501.730397</td>\n",
       "      <td>74356.88347</td>\n",
       "      <td>5</td>\n",
       "      <td>612</td>\n",
       "      <td>0</td>\n",
       "    </tr>\n",
       "    <tr>\n",
       "      <th>4</th>\n",
       "      <td>1</td>\n",
       "      <td>1345.827718</td>\n",
       "      <td>1768.826187</td>\n",
       "      <td>23448.32631</td>\n",
       "      <td>6</td>\n",
       "      <td>631</td>\n",
       "      <td>0</td>\n",
       "    </tr>\n",
       "  </tbody>\n",
       "</table>\n",
       "</div>"
      ],
      "text/plain": [
       "   credit_lines_outstanding  loan_amt_outstanding  total_debt_outstanding  \\\n",
       "0                         0           5221.545193             3915.471226   \n",
       "1                         5           1958.928726             8228.752520   \n",
       "2                         0           3363.009259             2027.830850   \n",
       "3                         0           4766.648001             2501.730397   \n",
       "4                         1           1345.827718             1768.826187   \n",
       "\n",
       "        income  years_employed  fico_score  default  \n",
       "0  78039.38546               5         605        0  \n",
       "1  26648.43525               2         572        1  \n",
       "2  65866.71246               4         602        0  \n",
       "3  74356.88347               5         612        0  \n",
       "4  23448.32631               6         631        0  "
      ]
     },
     "execution_count": 7,
     "metadata": {},
     "output_type": "execute_result"
    }
   ],
   "source": [
    "# customer id is not significant to determine a default, so drop this variable\n",
    "df.drop('customer_id',inplace=True,axis =1)\n",
    "df.head()"
   ]
  },
  {
   "cell_type": "code",
   "execution_count": 8,
   "id": "92b7d34b",
   "metadata": {},
   "outputs": [],
   "source": [
    "from sklearn.model_selection import train_test_split\n",
    "from sklearn.linear_model import LogisticRegression\n",
    "from sklearn.dummy import DummyClassifier\n",
    "from sklearn.metrics import accuracy_score, f1_score, confusion_matrix, recall_score, roc_auc_score"
   ]
  },
  {
   "cell_type": "code",
   "execution_count": 9,
   "id": "f70e84b8",
   "metadata": {},
   "outputs": [
    {
     "name": "stdout",
     "output_type": "stream",
     "text": [
      "Max fico score is 850\n",
      "Min fico score is 408\n"
     ]
    }
   ],
   "source": [
    "print('Max fico score is',df.fico_score.max())\n",
    "print('Min fico score is',df.fico_score.min())"
   ]
  },
  {
   "cell_type": "markdown",
   "id": "ecc3db15",
   "metadata": {},
   "source": [
    "****Creating groups for fico scores****"
   ]
  },
  {
   "cell_type": "code",
   "execution_count": 10,
   "id": "548aec8a",
   "metadata": {},
   "outputs": [],
   "source": [
    "# create a list of our conditions\n",
    "conditions = [\n",
    "    (df['fico_score'] <= 450),\n",
    "    (df['fico_score'] > 450) & (df['fico_score'] <= 550),\n",
    "    (df['fico_score'] > 550) & (df['fico_score'] <= 650),\n",
    "    (df['fico_score'] > 650) &(df['fico_score']<=750),\n",
    "    (df['fico_score']>750)\n",
    "    ]\n",
    "\n",
    "# create a list of the values we want to assign for each condition\n",
    "values = [0,1,2,3,4]\n",
    "\n",
    "# create a new column and use np.select to assign values to it using our lists as arguments\n",
    "df['fico_group'] = np.select(conditions, values)"
   ]
  },
  {
   "cell_type": "code",
   "execution_count": 11,
   "id": "29b89299",
   "metadata": {},
   "outputs": [
    {
     "data": {
      "text/plain": [
       "2    5049\n",
       "3    3920\n",
       "1     746\n",
       "4     273\n",
       "0      12\n",
       "Name: fico_group, dtype: int64"
      ]
     },
     "execution_count": 11,
     "metadata": {},
     "output_type": "execute_result"
    }
   ],
   "source": [
    "df.fico_group.value_counts()"
   ]
  },
  {
   "cell_type": "code",
   "execution_count": 12,
   "id": "b40b39ae",
   "metadata": {},
   "outputs": [
    {
     "name": "stdout",
     "output_type": "stream",
     "text": [
      "maximum income is 148412.1805\n",
      "minimum income is 1000.0\n"
     ]
    }
   ],
   "source": [
    "print('maximum income is',df.income.max())\n",
    "print('minimum income is',df.income.min())"
   ]
  },
  {
   "cell_type": "markdown",
   "id": "2b377162",
   "metadata": {},
   "source": [
    "****Creting 6 groups for the variable income with a gap of 25000****"
   ]
  },
  {
   "cell_type": "code",
   "execution_count": 13,
   "id": "cfbef62f",
   "metadata": {},
   "outputs": [
    {
     "data": {
      "text/plain": [
       "2    4333\n",
       "3    3417\n",
       "1    1457\n",
       "4     622\n",
       "0     138\n",
       "5      33\n",
       "Name: income_group, dtype: int64"
      ]
     },
     "execution_count": 13,
     "metadata": {},
     "output_type": "execute_result"
    }
   ],
   "source": [
    "conditions = [(df['income']<=25000),(df['income']>=25000 ) & (df['income']<= 50000),(df['income'] >=50000) & \n",
    "              (df['income']<=75000), (df['income'] >=75000) & (df['income'] <=100000), (df['income'] >=100000)\n",
    "              & (df['income'] <=125000), (df['income'] >= 125000) & (df['income'] <= 150000)]\n",
    "\n",
    "#create a list of values\n",
    "values = [0,1,2,3,4,5]\n",
    "# crete a new column for iincome groups\n",
    "\n",
    "df['income_group'] = np.select(conditions, values)\n",
    "\n",
    "df.income_group.value_counts()"
   ]
  },
  {
   "cell_type": "code",
   "execution_count": 14,
   "id": "9af62a99",
   "metadata": {},
   "outputs": [
    {
     "data": {
      "text/html": [
       "<div>\n",
       "<style scoped>\n",
       "    .dataframe tbody tr th:only-of-type {\n",
       "        vertical-align: middle;\n",
       "    }\n",
       "\n",
       "    .dataframe tbody tr th {\n",
       "        vertical-align: top;\n",
       "    }\n",
       "\n",
       "    .dataframe thead th {\n",
       "        text-align: right;\n",
       "    }\n",
       "</style>\n",
       "<table border=\"1\" class=\"dataframe\">\n",
       "  <thead>\n",
       "    <tr style=\"text-align: right;\">\n",
       "      <th></th>\n",
       "      <th>credit_lines_outstanding</th>\n",
       "      <th>loan_amt_outstanding</th>\n",
       "      <th>total_debt_outstanding</th>\n",
       "      <th>income</th>\n",
       "      <th>years_employed</th>\n",
       "      <th>fico_score</th>\n",
       "      <th>default</th>\n",
       "      <th>fico_group</th>\n",
       "      <th>income_group</th>\n",
       "    </tr>\n",
       "  </thead>\n",
       "  <tbody>\n",
       "    <tr>\n",
       "      <th>0</th>\n",
       "      <td>0</td>\n",
       "      <td>5221.545193</td>\n",
       "      <td>3915.471226</td>\n",
       "      <td>78039.38546</td>\n",
       "      <td>5</td>\n",
       "      <td>605</td>\n",
       "      <td>0</td>\n",
       "      <td>2</td>\n",
       "      <td>3</td>\n",
       "    </tr>\n",
       "    <tr>\n",
       "      <th>1</th>\n",
       "      <td>5</td>\n",
       "      <td>1958.928726</td>\n",
       "      <td>8228.752520</td>\n",
       "      <td>26648.43525</td>\n",
       "      <td>2</td>\n",
       "      <td>572</td>\n",
       "      <td>1</td>\n",
       "      <td>2</td>\n",
       "      <td>1</td>\n",
       "    </tr>\n",
       "    <tr>\n",
       "      <th>2</th>\n",
       "      <td>0</td>\n",
       "      <td>3363.009259</td>\n",
       "      <td>2027.830850</td>\n",
       "      <td>65866.71246</td>\n",
       "      <td>4</td>\n",
       "      <td>602</td>\n",
       "      <td>0</td>\n",
       "      <td>2</td>\n",
       "      <td>2</td>\n",
       "    </tr>\n",
       "    <tr>\n",
       "      <th>3</th>\n",
       "      <td>0</td>\n",
       "      <td>4766.648001</td>\n",
       "      <td>2501.730397</td>\n",
       "      <td>74356.88347</td>\n",
       "      <td>5</td>\n",
       "      <td>612</td>\n",
       "      <td>0</td>\n",
       "      <td>2</td>\n",
       "      <td>2</td>\n",
       "    </tr>\n",
       "    <tr>\n",
       "      <th>4</th>\n",
       "      <td>1</td>\n",
       "      <td>1345.827718</td>\n",
       "      <td>1768.826187</td>\n",
       "      <td>23448.32631</td>\n",
       "      <td>6</td>\n",
       "      <td>631</td>\n",
       "      <td>0</td>\n",
       "      <td>2</td>\n",
       "      <td>0</td>\n",
       "    </tr>\n",
       "  </tbody>\n",
       "</table>\n",
       "</div>"
      ],
      "text/plain": [
       "   credit_lines_outstanding  loan_amt_outstanding  total_debt_outstanding  \\\n",
       "0                         0           5221.545193             3915.471226   \n",
       "1                         5           1958.928726             8228.752520   \n",
       "2                         0           3363.009259             2027.830850   \n",
       "3                         0           4766.648001             2501.730397   \n",
       "4                         1           1345.827718             1768.826187   \n",
       "\n",
       "        income  years_employed  fico_score  default  fico_group  income_group  \n",
       "0  78039.38546               5         605        0           2             3  \n",
       "1  26648.43525               2         572        1           2             1  \n",
       "2  65866.71246               4         602        0           2             2  \n",
       "3  74356.88347               5         612        0           2             2  \n",
       "4  23448.32631               6         631        0           2             0  "
      ]
     },
     "execution_count": 14,
     "metadata": {},
     "output_type": "execute_result"
    }
   ],
   "source": [
    "df.head()\n",
    "# the dataset after inserting 2 groups of columns"
   ]
  },
  {
   "cell_type": "code",
   "execution_count": 15,
   "id": "a8abb987",
   "metadata": {},
   "outputs": [],
   "source": [
    "# we wont be taking in income and fico scores, instead we will be using the groups initiated\n",
    "x = df[['credit_lines_outstanding','loan_amt_outstanding','total_debt_outstanding','years_employed',\n",
    "      'fico_group','income_group']]\n",
    "y= df[['default']]"
   ]
  },
  {
   "cell_type": "code",
   "execution_count": 16,
   "id": "bfe406bb",
   "metadata": {},
   "outputs": [],
   "source": [
    "from sklearn.model_selection import train_test_split\n",
    "\n",
    "x_train,x_test,y_train,y_test= train_test_split(x,y,test_size= 0.7, random_state = 42)"
   ]
  },
  {
   "cell_type": "code",
   "execution_count": 17,
   "id": "d39f936e",
   "metadata": {},
   "outputs": [],
   "source": [
    "from sklearn.linear_model import LogisticRegression\n",
    "\n",
    "# initialise the model\n",
    "logit = LogisticRegression(solver='lbfgs').fit(x_train,np.ravel(y_train))\n",
    "\n",
    "## fitting the model with x and y variables\n",
    "\n"
   ]
  },
  {
   "cell_type": "code",
   "execution_count": 18,
   "id": "11b83829",
   "metadata": {},
   "outputs": [],
   "source": [
    "# predicting y variable with independent x variables\n",
    "y_pred = logit.predict(x_test)"
   ]
  },
  {
   "cell_type": "code",
   "execution_count": 19,
   "id": "40feb3f7",
   "metadata": {},
   "outputs": [
    {
     "name": "stderr",
     "output_type": "stream",
     "text": [
      "C:\\ProgramData\\Anaconda3\\lib\\site-packages\\sklearn\\utils\\validation.py:70: FutureWarning: Pass labels=[1, 0] as keyword args. From version 0.25 passing these as positional arguments will result in an error\n",
      "  FutureWarning)\n"
     ]
    },
    {
     "data": {
      "text/plain": [
       "Text(0.5, 1, 'Confusion Matrix  | Logistic Regression  |')"
      ]
     },
     "execution_count": 19,
     "metadata": {},
     "output_type": "execute_result"
    },
    {
     "data": {
      "image/png": "[encoded data removed]",
      "text/plain": [
       "<Figure size 432x288 with 2 Axes>"
      ]
     },
     "metadata": {
      "needs_background": "light"
     },
     "output_type": "display_data"
    }
   ],
   "source": [
    "from sklearn import metrics\n",
    "\n",
    "\n",
    "cm = metrics.confusion_matrix(y_test,y_pred, [1,0])\n",
    "sns.heatmap(cm,annot=True,fmt='.2f',cmap='plasma'\n",
    "           ,yticklabels=['default','no default'],\n",
    "          xticklabels=['default','no default'])\n",
    "\n",
    "plt.xlabel(\"Predicted Label\")\n",
    "plt.ylabel(\"Actual Label\")\n",
    "plt.title(\"Confusion Matrix  | Logistic Regression  |\")"
   ]
  },
  {
   "cell_type": "code",
   "execution_count": 20,
   "id": "e91b76d1",
   "metadata": {},
   "outputs": [
    {
     "name": "stdout",
     "output_type": "stream",
     "text": [
      "              precision    recall  f1-score   support\n",
      "\n",
      "           0       1.00      0.99      0.99      5724\n",
      "           1       0.96      0.98      0.97      1276\n",
      "\n",
      "    accuracy                           0.99      7000\n",
      "   macro avg       0.98      0.99      0.98      7000\n",
      "weighted avg       0.99      0.99      0.99      7000\n",
      "\n"
     ]
    }
   ],
   "source": [
    "report = metrics.classification_report(y_test,y_pred)\n",
    "print(report)"
   ]
  },
  {
   "cell_type": "code",
   "execution_count": 21,
   "id": "053d1917",
   "metadata": {},
   "outputs": [
    {
     "name": "stdout",
     "output_type": "stream",
     "text": [
      "Accuracy of the model is 0.9885714285714285\n"
     ]
    }
   ],
   "source": [
    "# Print the accuracy score the mod\n",
    "print('Accuracy of the model is',logit.score(x_test,y_test))"
   ]
  },
  {
   "cell_type": "markdown",
   "id": "bc909aeb",
   "metadata": {},
   "source": [
    "# AUC And ROC"
   ]
  },
  {
   "cell_type": "code",
   "execution_count": 22,
   "id": "d0c6d6cc",
   "metadata": {},
   "outputs": [
    {
     "data": {
      "text/html": [
       "<div>\n",
       "<style scoped>\n",
       "    .dataframe tbody tr th:only-of-type {\n",
       "        vertical-align: middle;\n",
       "    }\n",
       "\n",
       "    .dataframe tbody tr th {\n",
       "        vertical-align: top;\n",
       "    }\n",
       "\n",
       "    .dataframe thead th {\n",
       "        text-align: right;\n",
       "    }\n",
       "</style>\n",
       "<table border=\"1\" class=\"dataframe\">\n",
       "  <thead>\n",
       "    <tr style=\"text-align: right;\">\n",
       "      <th></th>\n",
       "      <th>0</th>\n",
       "      <th>1</th>\n",
       "    </tr>\n",
       "  </thead>\n",
       "  <tbody>\n",
       "    <tr>\n",
       "      <th>0</th>\n",
       "      <td>9.999996e-01</td>\n",
       "      <td>3.920786e-07</td>\n",
       "    </tr>\n",
       "    <tr>\n",
       "      <th>1</th>\n",
       "      <td>9.964174e-01</td>\n",
       "      <td>3.582625e-03</td>\n",
       "    </tr>\n",
       "    <tr>\n",
       "      <th>2</th>\n",
       "      <td>6.296791e-07</td>\n",
       "      <td>9.999994e-01</td>\n",
       "    </tr>\n",
       "    <tr>\n",
       "      <th>3</th>\n",
       "      <td>9.999999e-01</td>\n",
       "      <td>9.690321e-08</td>\n",
       "    </tr>\n",
       "    <tr>\n",
       "      <th>4</th>\n",
       "      <td>9.999990e-01</td>\n",
       "      <td>9.919873e-07</td>\n",
       "    </tr>\n",
       "  </tbody>\n",
       "</table>\n",
       "</div>"
      ],
      "text/plain": [
       "              0             1\n",
       "0  9.999996e-01  3.920786e-07\n",
       "1  9.964174e-01  3.582625e-03\n",
       "2  6.296791e-07  9.999994e-01\n",
       "3  9.999999e-01  9.690321e-08\n",
       "4  9.999990e-01  9.919873e-07"
      ]
     },
     "execution_count": 22,
     "metadata": {},
     "output_type": "execute_result"
    }
   ],
   "source": [
    "# predicting the probability values for test cases\n",
    "\n",
    "pred_prob_df  = pd.DataFrame(logit.predict_proba(x_test))\n",
    "pred_prob_df .head()"
   ]
  },
  {
   "cell_type": "markdown",
   "id": "21beb53f",
   "metadata": {},
   "source": [
    "# Recall is the ability of the model to correctly classify positives and negatives, aka,  sensitivity and specificity respectively"
   ]
  },
  {
   "cell_type": "markdown",
   "id": "c7932ba2",
   "metadata": {},
   "source": [
    "# Precision is about being precise, i.e, how accurate our model is. In other words when a model makes a prediction, how often it is correct."
   ]
  },
  {
   "cell_type": "code",
   "execution_count": 23,
   "id": "7920b0df",
   "metadata": {},
   "outputs": [
    {
     "name": "stdout",
     "output_type": "stream",
     "text": [
      "Accuracy is 99.0 %\n",
      "Precision is 96.0 %\n",
      "Recall is 98.0 %\n",
      "The above measure are only applicable for Positive class and not Negative Class, For Negtive class measures look at the classification report above\n"
     ]
    }
   ],
   "source": [
    "# store the 3 metrics in three different variables\n",
    "\n",
    "accuracy  = metrics.accuracy_score(y_test,y_pred)\n",
    "precision = metrics.precision_score(y_test,y_pred)\n",
    "recall    = metrics.recall_score(y_test,y_pred)\n",
    "note      = 'The above measure are only applicable for Positive class and not Negative \\\n",
    "Class, For Negtive class measures look at the classification report above'\n",
    "\n",
    "print(\"Accuracy is\",round(accuracy,2)*100,\"%\")\n",
    "print('Precision is',round(precision,2)*100,'%')\n",
    "print('Recall is',round(recall,2)*100,'%')\n",
    "print(note)"
   ]
  },
  {
   "cell_type": "markdown",
   "id": "19f8f460",
   "metadata": {},
   "source": [
    "# Is this model acceptable for practical applications ?"
   ]
  },
  {
   "cell_type": "markdown",
   "id": "fdde77e3",
   "metadata": {},
   "source": [
    "To accept a model for practical applications, AUC score of atleat 0.7 is required. AUC is the area under the\n",
    "curve of the Receiver operating characteristics curve. To find the AUC for the above model, we need to \n",
    "create a new dataframe and store the probability values for both the class labels 0, and 1. The model's\n",
    "predict_proba() method gives the predicted probability for the test examples, and can be passed to \n",
    "roc_aur_score() along with actual class labels to obtain AUC score"
   ]
  },
  {
   "cell_type": "code",
   "execution_count": 24,
   "id": "cfeb4877",
   "metadata": {},
   "outputs": [],
   "source": [
    "# the dataframe will have two columns for probabilty values of , 0 and 1 \n",
    "\n",
    "y_pred_probs = logit.predict_proba(x_test)[::,1]  # slice for taget class 1\n",
    "\n",
    "# We are slicing this array to use probabilities for only the target class, 1"
   ]
  },
  {
   "cell_type": "code",
   "execution_count": 25,
   "id": "6809595b",
   "metadata": {},
   "outputs": [
    {
     "data": {
      "image/png": "[encoded data removed]",
      "text/plain": [
       "<Figure size 432x360 with 1 Axes>"
      ]
     },
     "metadata": {
      "needs_background": "light"
     },
     "output_type": "display_data"
    }
   ],
   "source": [
    "\n",
    "fpr,tpr,thresholds = metrics.roc_curve(y_test,y_pred_probs)  # Store fpr,tpr, and thresholds\n",
    "\n",
    "auc = metrics.roc_auc_score(y_test,y_pred_probs)             # Store the auc score\n",
    "\n",
    "plt.figure(figsize=(6, 5))\n",
    "plt.plot(fpr,tpr,label= 'ROC curve (area = %0.2f)' % auc)\n",
    "plt.plot([0, 1], [0, 1], 'y--')                               # Plot a diagonal line at 45 degrees\n",
    "plt.xlim([0.0, 1.0])  \n",
    "plt.ylim([0.0, 1.05])\n",
    "plt.xlabel('False Positive Rate or [1 - True Negative Rate]')\n",
    "plt.ylabel('True Positive Rate')\n",
    "plt.legend(loc=\"center\")\n",
    "plt.show()"
   ]
  }
 ],
 "metadata": {
  "kernelspec": {
   "display_name": "Python 3",
   "language": "python",
   "name": "python3"
  },
  "language_info": {
   "codemirror_mode": {
    "name": "ipython",
    "version": 3
   },
   "file_extension": ".py",
   "mimetype": "text/x-python",
   "name": "python",
   "nbconvert_exporter": "python",
   "pygments_lexer": "ipython3",
   "version": "3.7.1"
  }
 },
 "nbformat": 4,
 "nbformat_minor": 5
}
